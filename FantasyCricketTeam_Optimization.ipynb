{
 "cells": [
  {
   "cell_type": "code",
   "execution_count": 1,
   "metadata": {},
   "outputs": [],
   "source": [
    "!pip -q install pulp"
   ]
  },
  {
   "cell_type": "code",
   "execution_count": 2,
   "metadata": {
    "_cell_guid": "b1076dfc-b9ad-4769-8c92-a6c4dae69d19",
    "_uuid": "8f2839f25d086af736a60e9eeb907d3b93b6e0e5"
   },
   "outputs": [
    {
     "name": "stdout",
     "output_type": "stream",
     "text": [
      "use_case_question.docx\n",
      "usecase_players.csv\n",
      "sample_solution.csv\n"
     ]
    }
   ],
   "source": [
    "import numpy as np # linear algebra\n",
    "import pandas as pd # data processing\n",
    "from pulp import *\n",
    "import os\n",
    "data_paths = {}\n",
    "for dirname, _, filenames in os.walk('/kaggle/input'):\n",
    "    for filename in filenames:\n",
    "        data_paths[filename] = os.path.join(dirname, filename)\n",
    "        print(filename)\n",
    "\n",
    "# Any results you write to the current directory are saved as output."
   ]
  },
  {
   "cell_type": "code",
   "execution_count": 3,
   "metadata": {
    "_cell_guid": "79c7e3d0-c299-4dcb-8224-4455121ee9b0",
    "_uuid": "d629ff2d2480ee46fbb7e2d37f6b5fab8052498a"
   },
   "outputs": [
    {
     "data": {
      "text/plain": [
       "((30, 5), (11, 5))"
      ]
     },
     "execution_count": 3,
     "metadata": {},
     "output_type": "execute_result"
    }
   ],
   "source": [
    "pdf = pd.read_csv(data_paths['usecase_players.csv'])\n",
    "res_df = pd.read_csv(data_paths['sample_solution.csv'])\n",
    "pdf.shape, res_df.shape"
   ]
  },
  {
   "cell_type": "code",
   "execution_count": 4,
   "metadata": {},
   "outputs": [],
   "source": [
    "def transform_data(players_df):\n",
    "    \n",
    "    # copy\n",
    "    df = players_df.copy()\n",
    "    \n",
    "    # replace original team abbv with 1 & 2\n",
    "    teamNameMap = {i:j+1 for j, i in enumerate(df['teamName'].unique())}\n",
    "    df['teamName'] = df['teamName'].replace(teamNameMap)\n",
    "    \n",
    "    # think it as availability, if player is injured/not available, set it to zero\n",
    "    df['quantity'] = 1\n",
    "    \n",
    "    # dummy ROI values based on the selection popularity\n",
    "    df['player_roi'] = df['selectionPercent'].apply(lambda x: int(x[:-1]))\n",
    "    df['player_roi'] = df['player_roi']/df['credits']\n",
    "    \n",
    "    # player_roi (maximize), credits (<=100), quantity (Total = 11)\n",
    "    # onehot encode => player_role, teamName\n",
    "    df = pd.get_dummies(df, columns=['teamName', 'player_role'])\n",
    "    \n",
    "    # defined feature columns\n",
    "    feature_cols = ['credits', 'player_roi', 'quantity', 'teamName_1', 'teamName_2', \n",
    "               'player_role_ar', 'player_role_bat', 'player_role_bowl', 'player_role_wk']\n",
    "    \n",
    "    # check if all features are present\n",
    "    for col in feature_cols:\n",
    "        if col not in df.columns:\n",
    "            raise(\"Required columns missing to form features:\", col)\n",
    "            \n",
    "    # Creates a list of the Players\n",
    "    player_names = list(df['playerName'])\n",
    "    feat_dict = {}\n",
    "    for col in feature_cols:\n",
    "        feat_dict[col] = dict(zip(player_names, df[col].values))\n",
    "        \n",
    "    return player_names, feat_dict"
   ]
  },
  {
   "cell_type": "code",
   "execution_count": 5,
   "metadata": {},
   "outputs": [],
   "source": [
    "def optimize_team(player_names, features):\n",
    "    \"\"\"\n",
    "    Function to call model the Linear Programming\n",
    "    \n",
    "    # min_per_team = 4\n",
    "    # max_per_team = 7\n",
    "    # bat_range = range(3, 5+1)\n",
    "    # ar_range = range(1, 3+1)\n",
    "    # bowl_range = range(3, 5+1)\n",
    "    # max_credits = 100\n",
    "    \n",
    "    Args:\n",
    "    ------\n",
    "    player_names: list->list of all unique player names\n",
    "    features: dict->dict with following features (as keys)\n",
    "    ('credits', 'player_roi', 'quantity', 'teamName_1', 'teamName_2', \n",
    "               'player_role_ar', 'player_role_bat', 'player_role_bowl', 'player_role_wk')\n",
    "               \n",
    "    returns:\n",
    "    ------\n",
    "    optimized LP problem (prob)\n",
    "    sloved variables & values can be accessed as\n",
    "    for v in prob.variables():\n",
    "        print(v.varValue)    \n",
    "    \"\"\"\n",
    "    \n",
    "    # Players chosen \n",
    "    player_chosen = LpVariable.dicts(\"playerChosen\", player_names, 0, 1, cat='Integer')\n",
    "    \n",
    "    # define np problem\n",
    "    prob = LpProblem(\"Fantasy_Cricket\", LpMaximize)\n",
    "\n",
    "    # The objective function is added to 'prob' first\n",
    "    prob += lpSum([feat['player_roi'][i]*player_chosen[i] for i in player_names]), \"MaximizeROI\"\n",
    "    \n",
    "    # max credits: credits are multiplied by 2 to convert them into integers\n",
    "    prob += lpSum([feat['credits'][i]*player_chosen[i] for i in player_names]) <= 100, \"MaxCredits\"\n",
    "    \n",
    "    # Total\n",
    "    prob += lpSum([feat['quantity'][f] * player_chosen[f] for f in player_names]) == 11, \"Totalselection\"\n",
    "\n",
    "    # Wk\n",
    "    prob += lpSum([feat['player_role_wk'][f] * player_chosen[f] for f in player_names]) == 1, \"Wkequal\"\n",
    "\n",
    "    # Batsmen\n",
    "    prob += lpSum([feat['player_role_bat'][f] * player_chosen[f] for f in player_names]) >= 3, \"BatsmenMinimum\"\n",
    "    prob += lpSum([feat['player_role_bat'][f] * player_chosen[f] for f in player_names]) <= 5, \"BatsmenMaximum\"\n",
    "\n",
    "    # Bowler\n",
    "    prob += lpSum([feat['player_role_bowl'][f] * player_chosen[f] for f in player_names]) >= 3, \"BowlerMinimum\"\n",
    "    prob += lpSum([feat['player_role_bowl'][f] * player_chosen[f] for f in player_names]) <= 5, \"BowlerMaximum\"\n",
    "\n",
    "    # All rounder\n",
    "    prob += lpSum([feat['player_role_ar'][f] * player_chosen[f] for f in player_names]) >= 1, \"ArMinimum\"\n",
    "    prob += lpSum([feat['player_role_ar'][f] * player_chosen[f] for f in player_names]) <= 3, \"ArMaximum\"\n",
    "\n",
    "    # India\n",
    "    prob += lpSum([feat['teamName_1'][f] * player_chosen[f] for f in player_names]) >= 4, \"Team1Minimum\"\n",
    "    prob += lpSum([feat['teamName_1'][f] * player_chosen[f] for f in player_names]) <= 7, \"Team1Maximum\"\n",
    "\n",
    "    # Wi\n",
    "    prob += lpSum([feat['teamName_2'][f] * player_chosen[f] for f in player_names]) >= 4, \"Team2Minimum\"\n",
    "    prob += lpSum([feat['teamName_2'][f] * player_chosen[f] for f in player_names]) <= 7, \"Team2Maximum\"\n",
    "\n",
    "    # The problem data is written to an .lp file\n",
    "    r = prob.writeLP(\"FantasyCricket.lp\")\n",
    "    \n",
    "    prob.solve()\n",
    "    print(\"Status:\", LpStatus[prob.status])\n",
    "    # prob.solver\n",
    "    \n",
    "    print(\"ROI maximized = {}\".format(round(value(prob.objective),2)))\n",
    "    \n",
    "    return prob"
   ]
  },
  {
   "cell_type": "code",
   "execution_count": 6,
   "metadata": {},
   "outputs": [
    {
     "name": "stdout",
     "output_type": "stream",
     "text": [
      "Status: Optimal\n",
      "ROI maximized = 108.68\n"
     ]
    }
   ],
   "source": [
    "player_names, feat = transform_data(pdf)\n",
    "prob = optimize_team(player_names, feat)"
   ]
  },
  {
   "cell_type": "code",
   "execution_count": 7,
   "metadata": {},
   "outputs": [
    {
     "name": "stdout",
     "output_type": "stream",
     "text": [
      "playerChosen_Brandon_King  =  8.0 bat\n",
      "playerChosen_Deepak_Chahar  =  8.5 bowl\n",
      "playerChosen_Fabian_Allen  =  8.0 ar\n",
      "playerChosen_Jason_Holder  =  8.5 ar\n",
      "playerChosen_Khary_Pierre  =  8.0 bowl\n",
      "playerChosen_Kuldeep_Yadav  =  8.5 bowl\n",
      "playerChosen_Lendl_Simmons  =  8.5 bat\n",
      "playerChosen_Manish_Pandey  =  8.5 bat\n",
      "playerChosen_Nicholas_Pooran  =  9.0 wk\n",
      "playerChosen_Sherfane_Rutherford  =  8.0 ar\n",
      "playerChosen_Virat_Kohli  =  10.5 bat\n",
      "Total credits: 94.0\n"
     ]
    }
   ],
   "source": [
    "player_roles = dict(zip(pdf['playerName'], pdf['player_role']))\n",
    "\n",
    "players_choosen = []\n",
    "players_credits = []\n",
    "for v in prob.variables():\n",
    "    if v.varValue>0:\n",
    "        act_name = \" \".join(v.name.split('_')[-2:])\n",
    "        credit = feat['credits'][act_name]\n",
    "        players_choosen.append(act_name)\n",
    "        players_credits.append(credit)\n",
    "        print(v.name, ' = ', credit, player_roles[act_name])\n",
    "        \n",
    "print('Total credits:', sum(players_credits))"
   ]
  },
  {
   "cell_type": "code",
   "execution_count": 8,
   "metadata": {},
   "outputs": [],
   "source": [
    "res_df = pdf[pdf['playerName'].isin(players_choosen)].reset_index(drop = 1)\n",
    "res_df.to_csv('solution.csv', index = None)"
   ]
  },
  {
   "cell_type": "code",
   "execution_count": 9,
   "metadata": {},
   "outputs": [],
   "source": [
    "###"
   ]
  },
  {
   "cell_type": "code",
   "execution_count": 10,
   "metadata": {},
   "outputs": [],
   "source": [
    "# maximize value\n",
    "# minimize credits\n",
    "\n",
    "# values = df['value'].values.tolist()\n",
    "# credits = df['credits'].values.tolist()\n",
    "# max_credits = 100\n",
    "\n",
    "# def fantasy_dp(values, credits, n_items, max_credit, return_all=False):\n",
    "    \n",
    "#     max_credit = 2*max_credit\n",
    "#     credits = [int(2*i) for i in credits]\n",
    "\n",
    "#     table = np.zeros((n_items+1, max_credit+1),dtype=np.float32)\n",
    "#     keep = np.zeros((n_items+1, max_credit+1),dtype=np.float32)\n",
    "    \n",
    "#     for i in range(1, n_items+1):\n",
    "#         for j, c in enumerate(range(max_credit+1)):\n",
    "#             ci = credits[i-1] # credit of current item\n",
    "#             vi = values[i-1] # value of current item\n",
    "#             if (ci <= c) and (vi + table[i-1,c-ci] > table[i-1,c]):\n",
    "#                 table[i,c] = ci + table[i-1,c-ci]\n",
    "#                 keep[i,c] = 1\n",
    "#             else:\n",
    "#                 table[i,c] = table[i-1,c]\n",
    "\n",
    "#     picks = []\n",
    "#     M = max_credit\n",
    "\n",
    "#     for i in range(n_items,0,-1):\n",
    "#         if keep[i,M] == 1:\n",
    "#             picks.append(i)\n",
    "#             M -= credits[i-1]\n",
    "\n",
    "#     picks.sort()\n",
    "#     picks = [x-1 for x in picks] # change to 0-index\n",
    "    \n",
    "#     return picks\n",
    "\n",
    "# n_items = 30\n",
    "# capacity = 100\n",
    "# picks = fantasy_dp(values, credits, n_items, capacity)\n",
    "# print(picks)\n",
    "\n",
    "# picks_credits = []\n",
    "# for p in picks:\n",
    "#     picks_credits.append(credits[p])\n",
    "# print(sum(picks_credits)), picks_credits"
   ]
  }
 ],
 "metadata": {
  "kernelspec": {
   "display_name": "Python 3",
   "language": "python",
   "name": "python3"
  },
  "language_info": {
   "codemirror_mode": {
    "name": "ipython",
    "version": 3
   },
   "file_extension": ".py",
   "mimetype": "text/x-python",
   "name": "python",
   "nbconvert_exporter": "python",
   "pygments_lexer": "ipython3",
   "version": "3.6.6"
  }
 },
 "nbformat": 4,
 "nbformat_minor": 1
}
